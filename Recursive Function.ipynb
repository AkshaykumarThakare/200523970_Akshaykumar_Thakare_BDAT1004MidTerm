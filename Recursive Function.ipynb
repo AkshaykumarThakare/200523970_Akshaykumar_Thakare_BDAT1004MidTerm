{
 "cells": [
  {
   "cell_type": "code",
   "execution_count": 16,
   "id": "c402f781",
   "metadata": {},
   "outputs": [],
   "source": [
    "def rf(i, n): ##defining function\n",
    "    if(n > 0):\n",
    "        rf(i, n//2);\n",
    "        print(\" \"*i + \"*\"*n)\n",
    "        rf(i + 1, n//2);\n",
    "\n"
   ]
  },
  {
   "cell_type": "code",
   "execution_count": 17,
   "id": "0fb97499",
   "metadata": {},
   "outputs": [],
   "source": [
    "rf(0,0)"
   ]
  },
  {
   "cell_type": "code",
   "execution_count": 18,
   "id": "1a6022d6",
   "metadata": {},
   "outputs": [
    {
     "name": "stdout",
     "output_type": "stream",
     "text": [
      "*\n"
     ]
    }
   ],
   "source": [
    "rf(0,1)"
   ]
  },
  {
   "cell_type": "code",
   "execution_count": 19,
   "id": "c84663fe",
   "metadata": {},
   "outputs": [
    {
     "name": "stdout",
     "output_type": "stream",
     "text": [
      "*\n",
      "**\n",
      " *\n"
     ]
    }
   ],
   "source": [
    "rf(0,2)"
   ]
  },
  {
   "cell_type": "code",
   "execution_count": 20,
   "id": "9f9eb387",
   "metadata": {},
   "outputs": [
    {
     "name": "stdout",
     "output_type": "stream",
     "text": [
      "*\n",
      "**\n",
      " *\n",
      "****\n",
      " *\n",
      " **\n",
      "  *\n"
     ]
    }
   ],
   "source": [
    "rf(0,4)"
   ]
  },
  {
   "cell_type": "code",
   "execution_count": null,
   "id": "62c7d2f2",
   "metadata": {},
   "outputs": [],
   "source": []
  }
 ],
 "metadata": {
  "kernelspec": {
   "display_name": "Python 3 (ipykernel)",
   "language": "python",
   "name": "python3"
  },
  "language_info": {
   "codemirror_mode": {
    "name": "ipython",
    "version": 3
   },
   "file_extension": ".py",
   "mimetype": "text/x-python",
   "name": "python",
   "nbconvert_exporter": "python",
   "pygments_lexer": "ipython3",
   "version": "3.9.12"
  }
 },
 "nbformat": 4,
 "nbformat_minor": 5
}
